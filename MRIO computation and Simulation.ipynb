{
 "cells": [
  {
   "cell_type": "code",
   "execution_count": 1,
   "id": "198e310f",
   "metadata": {},
   "outputs": [],
   "source": [
    "import numpy as np\n",
    "import pandas as pd\n",
    "import matplotlib.pyplot as plt\n",
    "import matplotlib as mpl\n",
    "import seaborn as sns\n",
    "from itertools import cycle\n",
    "from pylab import *\n",
    "\n",
    "from scipy import optimize\n",
    "from sklearn.metrics import mean_squared_error,r2_score\n",
    "%matplotlib inline\n",
    "plt.rcParams['font.sans-serif']=['SimHei'] #Used to display Chinese labels normally\n",
    "plt.rcParams['axes.unicode_minus']=False #Used to display the negative sign normally\n",
    "import warnings\n",
    "warnings.filterwarnings('ignore')\n",
    "#import altair as alt"
   ]
  },
  {
   "cell_type": "markdown",
   "id": "28a86850",
   "metadata": {},
   "source": [
    "# MRIO computation"
   ]
  },
  {
   "cell_type": "code",
   "execution_count": 2,
   "id": "e15db4ec",
   "metadata": {},
   "outputs": [],
   "source": [
    "plt.rcParams['axes.linewidth'] = 1.5  #Figure width\n",
    "# plt.rcParams['figure.dpi'] = 80  #Figure resolution\n",
    "font = {'family': 'serif',\n",
    "        'serif': 'Times New Roman',\n",
    "        'weight': 'normal'\n",
    "        }\n",
    "#'size': 10\n",
    "plt.rc('font', **font)"
   ]
  },
  {
   "cell_type": "code",
   "execution_count": 3,
   "id": "9b279a41",
   "metadata": {},
   "outputs": [],
   "source": [
    "#consumption input-output table\n",
    "linkage_matrix=pd.read_excel('C:\\\\CityU\\\\wangjie\\\\原始表格(存在操作改动)\\\\居民消费碳排放系数计算2015-0813residence修改.xlsx',sheet_name='居民消费与行业部门连接')#可以通过sheet_name来指定读取的表单"
   ]
  },
  {
   "cell_type": "code",
   "execution_count": 4,
   "id": "e1ac5a3b",
   "metadata": {},
   "outputs": [],
   "source": [
    "# identifying the material\n",
    "linkage_matrix_1 = linkage_matrix.iloc[3:,3:11]\n",
    "linkage_matrix_1 = linkage_matrix_1.astype(float)\n",
    "linkage_matrix_1 = linkage_matrix_1.reset_index(drop=True)"
   ]
  },
  {
   "cell_type": "code",
   "execution_count": 5,
   "id": "8fe37410",
   "metadata": {},
   "outputs": [],
   "source": [
    "data_range = pd.read_excel('C:\\\\CityU\\\\wangjie\\\\原始表格(存在操作改动)\\\\0102重点部门供需端range.xlsx')#可以通过sheet_name来指定读取的表单"
   ]
  },
  {
   "cell_type": "code",
   "execution_count": 6,
   "id": "8003a06a",
   "metadata": {},
   "outputs": [],
   "source": [
    "data_range1=data_range"
   ]
  },
  {
   "cell_type": "code",
   "execution_count": 8,
   "id": "0a2c5ba4",
   "metadata": {},
   "outputs": [],
   "source": [
    "MRIO2015_deflator=pd.read_csv('C:\\\\CityU\\\\wangjie\\\\原始表格(存在操作改动)\\\\新的表格\\\\MRIO2015_deflator.csv',encoding = \"gbk\",low_memory=False)#可以通过sheet_name来指定读取的表单"
   ]
  },
  {
   "cell_type": "code",
   "execution_count": 9,
   "id": "164a1ff8",
   "metadata": {},
   "outputs": [],
   "source": [
    "MRIO2015_deflator_1 = MRIO2015_deflator.iloc[2:1305,4:]"
   ]
  },
  {
   "cell_type": "code",
   "execution_count": null,
   "id": "456746fa",
   "metadata": {},
   "outputs": [],
   "source": []
  },
  {
   "cell_type": "code",
   "execution_count": null,
   "id": "9607c032",
   "metadata": {},
   "outputs": [],
   "source": []
  },
  {
   "cell_type": "code",
   "execution_count": null,
   "id": "44e98bba",
   "metadata": {},
   "outputs": [],
   "source": [
    "#Output the diagonal matrix of carbon emission coefficients for each industry\n",
    "#original_MRIO_deflator\n",
    "#data dimension\n",
    "#carbon_intensity\n",
    "##residents_input_output:居民消费 \n",
    "def industry_consumption_matrix(original_MRIO_deflator,n,carbon_intensity_2,residents_input_output):\n",
    "    MRIO_deflator = original_MRIO_deflator.astype(float)\n",
    "    #MRIO_deflator.reset_index(inplace=True)\n",
    " \n",
    "    MRIO_deflator = MRIO_deflator.div(MRIO_deflator.iloc[-1][0:])\n",
    "    MRIO_deflator.replace([np.inf, -np.inf, np.nan], 0, inplace=True)\n",
    "    MRIO_deflator = MRIO_deflator[:-1]\n",
    "    MRIO_deflator_out = np.array(MRIO_deflator)\n",
    "#列昂惕夫逆矩阵\n",
    "    t_c_matrix =np.eye(n, dtype=int)\n",
    "    c_matrix=t_c_matrix-MRIO_deflator\n",
    "    c_matrix_I = np.linalg.inv(c_matrix)#矩阵求逆\n",
    "#Diagonal matrix of carbon emission coefficients of various industries\n",
    "    coef_deff_indus = np.dot(carbon_intensity_2,c_matrix_I)#矩阵相乘\n",
    "    diagonal_matrix = np.diagflat(coef_deff_indus)#输出对角线矩阵\n",
    "#各行业碳排放矩阵   \n",
    "    industry_consumption_matrix = np.dot(diagonal_matrix,residents_input_output)#矩阵相乘\n",
    "    industry_consumption_matrix = pd.DataFrame(industry_consumption_matrix)\n",
    "\n",
    "    return industry_consumption_matrix"
   ]
  },
  {
   "cell_type": "code",
   "execution_count": null,
   "id": "2456d622",
   "metadata": {},
   "outputs": [],
   "source": []
  },
  {
   "cell_type": "markdown",
   "id": "40f5abee",
   "metadata": {},
   "source": [
    "# Simulation analysis"
   ]
  },
  {
   "cell_type": "code",
   "execution_count": 10,
   "id": "7ca16bbe",
   "metadata": {},
   "outputs": [],
   "source": [
    "# Mean variance of different clusters\n",
    "df1 = pd.read_excel('C:\\\\CityU\\\\wangjie\\\\new version\\\\20220414cluster占比&P595均值方差&消费情景-标准差修改.xlsx',sheet_name = 'low consumption-S6使用')"
   ]
  },
  {
   "cell_type": "code",
   "execution_count": 11,
   "id": "aa32e881",
   "metadata": {},
   "outputs": [],
   "source": [
    "# Proportion of different clusters\n",
    "df2 = pd.read_excel('C:\\\\CityU\\\\wangjie\\\\new version\\\\20220414cluster占比&P595均值方差&消费情景-标准差修改.xlsx',sheet_name = 'cluster占比修改')"
   ]
  },
  {
   "cell_type": "code",
   "execution_count": 12,
   "id": "594a1f7d",
   "metadata": {},
   "outputs": [],
   "source": [
    "#Scenario selection - produce the number of different clusters in different scenarios\n",
    "def scenario(scenario,numbers):\n",
    "    blank = []\n",
    "    a = df2.iloc[0:160,[scenario]].values.reshape(-1).tolist()\n",
    "    for i,k in zip(range(1,df1.shape[1],2),range(0,160)):\n",
    "        #print (i)\n",
    "        n = (a[k]/100)*numbers\n",
    "        test = df1.iloc[2:12,[i,i+1]].values\n",
    "        for j in range(0,test.shape[0]):\n",
    "            #print (j)\n",
    "            mu, sigma,num = test[j][0],test[j][1],round(n)\n",
    "            s = np.random.normal(mu, sigma, num)\n",
    "            blank.append(s)\n",
    "    return blank"
   ]
  },
  {
   "cell_type": "code",
   "execution_count": null,
   "id": "74a506b1",
   "metadata": {},
   "outputs": [],
   "source": [
    "a = scenario(6,100002)#情景and所有家户的cases总量是100000"
   ]
  },
  {
   "cell_type": "code",
   "execution_count": null,
   "id": "a7a432e0",
   "metadata": {},
   "outputs": [],
   "source": [
    "dta = pd.DataFrame()\n",
    "for k,x in zip(range(0,1590,10),df2.分类):\n",
    "    n = pd.DataFrame()\n",
    "    for i in range(k,k+10):\n",
    "        m =  pd.DataFrame(a[i])\n",
    "        m1 = m.T\n",
    "        n = n.append(m1)\n",
    "    m2 = n.T\n",
    "    m2.columns=['pfood','pdress','preside','pfacily','ptrco','phealth','prec','pother','fuel-share','transportation-share']\n",
    "    m2['类型'] = x\n",
    "    m2.loc[m2['pfood'] <=  0,'pfood']=0\n",
    "    m2.loc[m2['pdress'] <=  0,'pdress']=0\n",
    "    m2.loc[m2['preside'] <=  0,'preside']=0\n",
    "    m2.loc[m2['pfacily'] <=  0,'pfacily']=0\n",
    "    m2.loc[m2['ptrco'] <=  0,'ptrco']=0\n",
    "    m2.loc[m2['phealth'] <=  0,'phealth']=0\n",
    "    m2.loc[m2['prec'] <=  0,'prec']=0\n",
    "    m2.loc[m2['pother'] <=  0,'pother']=0\n",
    "    m2.loc[m2['pother'] <=  0,'pother']=0\n",
    "    m2.loc[m2['fuel-share'] <=  0,'fuel-share']=0\n",
    "    m2.loc[m2['transportation-share'] <=  0,'transportation-share']=0\n",
    "    dta = dta.append(m2)"
   ]
  },
  {
   "cell_type": "code",
   "execution_count": null,
   "id": "77f6104c",
   "metadata": {},
   "outputs": [],
   "source": [
    "#dta.to_excel('C:\\\\CityU\\\\wangjie\\\\new version\\\\4-15模拟结果\\\\S6.xlsx')"
   ]
  },
  {
   "cell_type": "code",
   "execution_count": null,
   "id": "0f06dc1f",
   "metadata": {},
   "outputs": [],
   "source": []
  }
 ],
 "metadata": {
  "kernelspec": {
   "display_name": "Python 3 (ipykernel)",
   "language": "python",
   "name": "python3"
  },
  "language_info": {
   "codemirror_mode": {
    "name": "ipython",
    "version": 3
   },
   "file_extension": ".py",
   "mimetype": "text/x-python",
   "name": "python",
   "nbconvert_exporter": "python",
   "pygments_lexer": "ipython3",
   "version": "3.9.7"
  }
 },
 "nbformat": 4,
 "nbformat_minor": 5
}
